{
  "cells": [
    {
      "cell_type": "markdown",
      "metadata": {
        "id": "dbeA-AB9WbXd"
      },
      "source": [
        "# Exercise 6"
      ]
    },
    {
      "cell_type": "markdown",
      "metadata": {
        "id": "srcf86R5WbXj"
      },
      "source": [
        "#### Pre-defined code"
      ]
    },
    {
      "cell_type": "code",
      "execution_count": 3,
      "metadata": {
        "id": "xEiATEWyWbXk"
      },
      "outputs": [],
      "source": [
        "class Node:\n",
        "    def __init__(self, item):\n",
        "        self.left = None\n",
        "        self.right = None\n",
        "        self.val = item"
      ]
    },
    {
      "cell_type": "code",
      "execution_count": 4,
      "metadata": {
        "id": "mRbHs1FJWbXm"
      },
      "outputs": [],
      "source": [
        "def inorder(root):\n",
        "\n",
        "    if root:\n",
        "        # Traverse left\n",
        "        inorder(root.left)\n",
        "        # Traverse root\n",
        "        print(str(root.val) + \"->\", end='')\n",
        "        # Traverse right\n",
        "        inorder(root.right)\n",
        "\n",
        "def postorder(root):\n",
        "\n",
        "    if root:\n",
        "        # Traverse left\n",
        "        postorder(root.left)\n",
        "        # Traverse right\n",
        "        postorder(root.right)\n",
        "        # Traverse root\n",
        "        print(str(root.val) + \"->\", end='')\n",
        "\n",
        "def preorder(root):\n",
        "\n",
        "    if root:\n",
        "        # Traverse root\n",
        "        print(str(root.val) + \"->\", end='')\n",
        "        # Traverse left\n",
        "        preorder(root.left)\n",
        "        # Traverse right\n",
        "        preorder(root.right)"
      ]
    },
    {
      "cell_type": "markdown",
      "metadata": {
        "id": "nxZX7a9fWbXm"
      },
      "source": [
        "#### 1. Construct Create your own company org chart and put yourself as CEO.\n",
        "\n",
        "Using a Tree data structure,\n",
        "\n",
        "- Assign yourself as CEO\n",
        "\n",
        "- Assign any of your classmate as HR Director\n",
        "- Assign any of your classmate as Sales Director\n",
        "\n",
        "- Assign any of your classmate as trainee. His/her boss is the HR Director\n",
        "- Assign any of your classmate as a staff and trainee. Their boss is the Sales Director\n"
      ]
    },
    {
      "cell_type": "markdown",
      "metadata": {
        "id": "jo-4PlTVWbXn"
      },
      "source": [
        "<img src=\"https://thumbs.dreamstime.com/z/cartoon-organization-chart-some-company-93778925.jpg\"/>"
      ]
    },
    {
      "cell_type": "code",
      "execution_count": 22,
      "metadata": {
        "id": "gukLErh8WbXn"
      },
      "outputs": [],
      "source": [
        "# put your answer here\n",
        "root = Node(\"CEO: Uriel\")\n",
        "root.left = Node(\"HR: Brix\")\n",
        "root.right = Node(\"Sales: Earl\")\n",
        "\n",
        "root.left.left = Node(\"Trainee: Allen\")\n",
        "root.right.left = Node(\"Staff: Bando\")\n",
        "root.right.right = Node(\"Trainee: Iber\")"
      ]
    },
    {
      "cell_type": "markdown",
      "metadata": {
        "id": "lEweSl-EWbXo"
      },
      "source": [
        "#### 2. Traverse the tree in in-order traversal"
      ]
    },
    {
      "cell_type": "code",
      "execution_count": 23,
      "metadata": {
        "colab": {
          "base_uri": "https://localhost:8080/"
        },
        "id": "Um0_JcaeWbXo",
        "outputId": "e327fe05-8ad9-46a8-e80b-afe6c716b624"
      },
      "outputs": [
        {
          "output_type": "stream",
          "name": "stdout",
          "text": [
            "Inorder traversal \n",
            "Trainee: Allen->HR: Brix->CEO: Uriel->Staff: Bando->Sales: Earl->Trainee: Iber->"
          ]
        }
      ],
      "source": [
        "# put your answer here\n",
        "print(\"Inorder traversal \")\n",
        "inorder(root)"
      ]
    },
    {
      "cell_type": "markdown",
      "metadata": {
        "id": "vlMIGfwqWbXp"
      },
      "source": [
        "#### 3. Traverse the tree in pre-order traversal"
      ]
    },
    {
      "cell_type": "code",
      "execution_count": 24,
      "metadata": {
        "colab": {
          "base_uri": "https://localhost:8080/"
        },
        "id": "EJoiaDn-WbXp",
        "outputId": "04465ad7-8a08-4181-a096-2f6c777067f0"
      },
      "outputs": [
        {
          "output_type": "stream",
          "name": "stdout",
          "text": [
            "\n",
            "Preorder traversal \n",
            "CEO: Uriel->HR: Brix->Trainee: Allen->Sales: Earl->Staff: Bando->Trainee: Iber->"
          ]
        }
      ],
      "source": [
        "# put your answer here\n",
        "print(\"\\nPreorder traversal \")\n",
        "preorder(root)\n"
      ]
    },
    {
      "cell_type": "markdown",
      "metadata": {
        "id": "z6n5LdBFWbXp"
      },
      "source": [
        "#### 4. Traverse the tree in post-order traversal"
      ]
    },
    {
      "cell_type": "code",
      "execution_count": 25,
      "metadata": {
        "colab": {
          "base_uri": "https://localhost:8080/"
        },
        "id": "bRVBOu2pWbXp",
        "outputId": "bb2b6711-d149-44e9-ee32-85f56d4785ba"
      },
      "outputs": [
        {
          "output_type": "stream",
          "name": "stdout",
          "text": [
            "\n",
            "Postorder traversal \n",
            "Trainee: Allen->HR: Brix->Staff: Bando->Trainee: Iber->Sales: Earl->CEO: Uriel->"
          ]
        }
      ],
      "source": [
        "# put your answer here\n",
        "print(\"\\nPostorder traversal \")\n",
        "postorder(root)"
      ]
    }
  ],
  "metadata": {
    "kernelspec": {
      "display_name": "Python 3",
      "language": "python",
      "name": "python3"
    },
    "language_info": {
      "codemirror_mode": {
        "name": "ipython",
        "version": 3
      },
      "file_extension": ".py",
      "mimetype": "text/x-python",
      "name": "python",
      "nbconvert_exporter": "python",
      "pygments_lexer": "ipython3",
      "version": "3.11.4"
    },
    "orig_nbformat": 4,
    "colab": {
      "provenance": []
    }
  },
  "nbformat": 4,
  "nbformat_minor": 0
}
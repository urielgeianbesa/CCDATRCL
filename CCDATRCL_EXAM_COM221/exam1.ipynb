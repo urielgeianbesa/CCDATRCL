{
  "cells": [
    {
      "cell_type": "markdown",
      "metadata": {
        "id": "view-in-github"
      },
      "source": [
        "<a href=\"https://colab.research.google.com/github/robitussin/CCDATRCL_EXAM/blob/main/exam1.ipynb\" target=\"_parent\"><img src=\"https://colab.research.google.com/assets/colab-badge.svg\" alt=\"Open In Colab\"/></a>"
      ]
    },
    {
      "cell_type": "markdown",
      "metadata": {
        "id": "yaz2B0KGFehP"
      },
      "source": [
        "# Midterm Exam 💛💙"
      ]
    },
    {
      "cell_type": "markdown",
      "metadata": {
        "id": "_DmK1ONEFehQ"
      },
      "source": [
        "**Instructions** ❗️❗️\n",
        "\n",
        "❌ Do not remove or modify the notebook **sections**, **subsections**, **exam questions** or **any text** in this python notebook\n",
        "\n",
        "✔️ Put your answer in the designated cells below each question"
      ]
    },
    {
      "cell_type": "markdown",
      "metadata": {
        "id": "TMCAXKWCFehR"
      },
      "source": [
        "## Search"
      ]
    },
    {
      "cell_type": "code",
      "execution_count": 143,
      "metadata": {
        "id": "Fy8nEBRRFehR"
      },
      "outputs": [],
      "source": [
        "def linearSearch(my_list, number):\n",
        "\n",
        "    index = 0\n",
        "\n",
        "    for i in my_list:\n",
        "\n",
        "        if my_list[index] == number:\n",
        "            return index\n",
        "\n",
        "        index = index + 1\n",
        "\n",
        "    return -1"
      ]
    },
    {
      "cell_type": "code",
      "source": [
        "def findLargestIncrease(student_number):\n",
        "    if len(student_number) < 2:\n",
        "        return \"The list must have at least two numbers.\"\n",
        "\n",
        "    max_increase = 0\n",
        "    start_index = -1\n",
        "    end_index = -1\n",
        "\n",
        "    for i in range(len(student_number) - 1):\n",
        "        increase = student_number[i + 1] - student_number[i]\n",
        "        if increase > max_increase:\n",
        "            max_increase = increase\n",
        "            start_index = i\n",
        "            end_index = i + 1\n",
        "\n",
        "    if max_increase == 0:\n",
        "        return \"No increase! \"\n",
        "    else:\n",
        "        return f\"Between {student_number[start_index]} and {student_number[end_index]}\""
      ],
      "metadata": {
        "id": "sijUuPGEiPbB"
      },
      "execution_count": 144,
      "outputs": []
    },
    {
      "cell_type": "code",
      "source": [
        "def findLargestDecrease(student_number):\n",
        "    if len(student_number) < 2:\n",
        "        return \"The list must have at least two numbers.\"\n",
        "\n",
        "    max_decrease = 0\n",
        "    start_index = -1\n",
        "    end_index = -1\n",
        "\n",
        "    for i in range(len(student_number) - 1):\n",
        "        decrease = student_number[i] - student_number[i + 1]\n",
        "        if decrease > max_decrease:\n",
        "            max_decrease = decrease\n",
        "            start_index = i\n",
        "            end_index = i + 1\n",
        "\n",
        "    if max_decrease == 0:\n",
        "        return \"No decrease! .\"\n",
        "    else:\n",
        "        return f\"Between {student_number[start_index]} and {student_number[end_index]}\""
      ],
      "metadata": {
        "id": "XP0q-h8LirKp"
      },
      "execution_count": 145,
      "outputs": []
    },
    {
      "cell_type": "markdown",
      "metadata": {
        "id": "AjAevpueFehS"
      },
      "source": [
        "1. Using **linear search**, write a `findLargestIncrease()` function to find the largest increase in value between two adjacent numbers in your student number `(10 points)`\n",
        "\n",
        "    **Example:**\n",
        "\n",
        "    student_number = [2,0,2,2,6,2,5,1,9,3]\n",
        "\n",
        "    **Expected Output:**\n",
        "\n",
        "    findLargestIncrease(student_number)\n",
        "\n",
        "    Output: Between 1 and 9\n",
        "\n",
        "    **Explanation:**\n",
        "\n",
        "    From this student_number, the largest increase happened from number 1 to number 9"
      ]
    },
    {
      "cell_type": "code",
      "execution_count": 146,
      "metadata": {
        "colab": {
          "base_uri": "https://localhost:8080/"
        },
        "id": "JE8nEfyJFehS",
        "outputId": "9e2b0706-5432-493e-9627-632aa6dde76f"
      },
      "outputs": [
        {
          "output_type": "stream",
          "name": "stdout",
          "text": [
            "Output: Between 2 and 9\n"
          ]
        }
      ],
      "source": [
        "# put your answer here\n",
        "student_number = [2, 0, 2, 2, 1, 0, 2, 9, 6]\n",
        "result = findLargestIncrease(student_number)\n",
        "print(\"Output:\", result)"
      ]
    },
    {
      "cell_type": "markdown",
      "metadata": {
        "id": "nMyr1fNyFehS"
      },
      "source": [
        "2. Using **linear search**, write a `findLargestDecrease()` function to find the largest decrease in value between two adjacent numbers in your student number `(10 points)`\n",
        "\n",
        "    **Example:**\n",
        "\n",
        "    student_number = [2,0,2,2,6,2,5,1,9,3]\n",
        "\n",
        "    **Expected Output:**\n",
        "\n",
        "    findLargestDecrease(student_number)\n",
        "\n",
        "    Output: Between 9 and 3\n",
        "\n",
        "    **Explanation:**\n",
        "\n",
        "    From this student_number, the largest decrease happened from number 9 to number 3"
      ]
    },
    {
      "cell_type": "code",
      "execution_count": 147,
      "metadata": {
        "colab": {
          "base_uri": "https://localhost:8080/"
        },
        "id": "bfMfQVbVFehS",
        "outputId": "62821d32-724f-4167-e5c5-865d79092346"
      },
      "outputs": [
        {
          "output_type": "stream",
          "name": "stdout",
          "text": [
            "Output: Between 9 and 6\n"
          ]
        }
      ],
      "source": [
        "# put your answer here\n",
        "result = findLargestDecrease(student_number)\n",
        "print(\"Output:\", result)"
      ]
    },
    {
      "cell_type": "markdown",
      "metadata": {
        "id": "NtKSQn9QFehS"
      },
      "source": [
        "## Linked List"
      ]
    },
    {
      "cell_type": "code",
      "execution_count": 148,
      "metadata": {
        "id": "0HP5zyJcFehS"
      },
      "outputs": [],
      "source": [
        "class Node:\n",
        "\n",
        "    def __init__(self, value):\n",
        "        self.value = value\n",
        "        self.next = None  # null"
      ]
    },
    {
      "cell_type": "code",
      "execution_count": 149,
      "metadata": {
        "id": "A-8Uefe7FehS"
      },
      "outputs": [],
      "source": [
        "class LinkedList:\n",
        "\n",
        "    def __init__(self):\n",
        "        self.head = None\n",
        "\n",
        "    def traverse(self, node):\n",
        "        while node:\n",
        "            print(node.data, end=\" -> \")\n",
        "            node = node.next\n",
        "\n",
        "    def append(self, value):\n",
        "        new_node = Node(value)\n",
        "        if not self.head:\n",
        "            self.head = new_node\n",
        "        else:\n",
        "            current = self.head\n",
        "            while current.next:\n",
        "                current = current.next\n",
        "            current.next = new_node\n",
        "\n",
        "    def display(self):\n",
        "        elements = []\n",
        "        current = self.head\n",
        "        while current:\n",
        "            elements.append(current.value)\n",
        "            current = current.next\n",
        "        return elements\n",
        "\n",
        "    @staticmethod\n",
        "    def is_prime(num):\n",
        "        if num <= 1:\n",
        "            return False\n",
        "        if num <= 3:\n",
        "            return True\n",
        "        if num % 2 == 0 or num % 3 == 0:\n",
        "            return False\n",
        "        i = 5\n",
        "        while i * i <= num:\n",
        "            if num % i == 0 or num % (i + 2) == 0:\n",
        "                return False\n",
        "            i += 6\n",
        "        return True\n",
        "\n",
        "    def hasPrime(self):\n",
        "        if not self.head:\n",
        "            return False\n",
        "\n",
        "        last_six_digits = []\n",
        "\n",
        "        current = self.head\n",
        "        while current:\n",
        "            last_six_digits.append(current.value)\n",
        "            current = current.next\n",
        "            if len(last_six_digits) > 6:\n",
        "                last_six_digits.pop(0)\n",
        "\n",
        "        for digit in last_six_digits:\n",
        "            if self.is_prime(digit):\n",
        "                return True\n",
        "\n",
        "        return False\n",
        "\n",
        "    def removeZeroes(self):\n",
        "        if not self.head:\n",
        "            return \"no zeros found\"\n",
        "\n",
        "        current = self.head\n",
        "        prev = None\n",
        "\n",
        "        while current:\n",
        "            if current.value == 0:\n",
        "                if prev:\n",
        "                    prev.next = current.next\n",
        "                else:\n",
        "                    self.head = current.next\n",
        "            else:\n",
        "                prev = current\n",
        "            current = current.next\n",
        "\n",
        "    def insertDash(self):\n",
        "        current = self.head\n",
        "        count = 1\n",
        "\n",
        "        while current:\n",
        "            if count == 4:\n",
        "                new_node = Node(\"-\")\n",
        "                new_node.next = current.next\n",
        "                current.next = new_node\n",
        "                count += 1\n",
        "            current = current.next\n",
        "            count += 1"
      ]
    },
    {
      "cell_type": "markdown",
      "metadata": {
        "id": "uPgIJJuSFehT"
      },
      "source": [
        "**Instructions** ❗️❗️\n",
        "\n",
        "Use the pre-defined linked list class/functions to create a linked list"
      ]
    },
    {
      "cell_type": "markdown",
      "metadata": {
        "id": "WIwpW7Q2FehT"
      },
      "source": [
        "1. Create a Singly linked list named **num_list** and print all of its elements. `(5 points)`\n",
        "\n",
        "- **num_list** should contain all digits of your student number.\n",
        "\n",
        "    **Expected Output:**\n",
        "\n",
        "    print(num_list)\n",
        "\n",
        "    [2, 0, 2, 2, 1, 2, 3, 4, 5, 6]"
      ]
    },
    {
      "cell_type": "code",
      "execution_count": 150,
      "metadata": {
        "colab": {
          "base_uri": "https://localhost:8080/"
        },
        "id": "Lihv0JPiFehT",
        "outputId": "afca38a0-8be3-43b0-809f-189c53c899e6"
      },
      "outputs": [
        {
          "output_type": "stream",
          "name": "stdout",
          "text": [
            "Output: [2, 0, 2, 2, 1, 0, 2, 9, 6, 8]\n"
          ]
        }
      ],
      "source": [
        "# put your answer here\n",
        "num_list = LinkedList()\n",
        "student_number = [2, 0, 2, 2, 1, 0, 2, 9, 6, 8]\n",
        "\n",
        "for digit in student_number:\n",
        "    num_list.append(digit)\n",
        "\n",
        "print(\"Output:\",num_list.display())"
      ]
    },
    {
      "cell_type": "markdown",
      "metadata": {
        "id": "dqA2UYrYFehT"
      },
      "source": [
        "2. Write a `hasPrime()` function to test whether a prime number is in the last six digits of **num_list**. `(5 points)`\n",
        "\n",
        "- If a prime number is in the last six digits of **num_list**, the method should return **true**\n",
        "\n",
        "- If a prime number is not in the last six digits of **num_list**, the method should return **false**\n",
        "\n",
        "    **Expected Output:**\n",
        "\n",
        "    hasPrime(num_list)\n",
        "\n",
        "    True"
      ]
    },
    {
      "cell_type": "code",
      "execution_count": 151,
      "metadata": {
        "colab": {
          "base_uri": "https://localhost:8080/"
        },
        "id": "GYwsQNz5FehT",
        "outputId": "734254f5-5046-45ab-9d3f-066eb88f946e"
      },
      "outputs": [
        {
          "output_type": "stream",
          "name": "stdout",
          "text": [
            "Output: True\n"
          ]
        }
      ],
      "source": [
        "# put your answer here\n",
        "result_has_prime = num_list.hasPrime()\n",
        "print(\"Output:\",result_has_prime)"
      ]
    },
    {
      "cell_type": "markdown",
      "metadata": {
        "id": "5Qb0BOiwFehT"
      },
      "source": [
        "3. Write a `removeZeroes()` function to remove all occurrences of zeroes in **num_list**. `(5 points)`\n",
        "\n",
        "- If a zero is in **num_list**, return **num_list**\n",
        "\n",
        "- If there are no zeroes in **num_list**, return **\"no zeros found\"**\n",
        "\n",
        "    **Expected Output:**\n",
        "\n",
        "    removeZeroes(num_list)\n",
        "\n",
        "    [2, 2, 1, 2, 3, 4, 5, 6]"
      ]
    },
    {
      "cell_type": "code",
      "execution_count": 152,
      "metadata": {
        "id": "k1vAHUYuFehT",
        "colab": {
          "base_uri": "https://localhost:8080/"
        },
        "outputId": "333b10ad-a6b4-49ca-edfc-666c1ab82ccf"
      },
      "outputs": [
        {
          "output_type": "stream",
          "name": "stdout",
          "text": [
            "Output: [2, 2, 2, 1, 2, 9, 6, 8]\n"
          ]
        }
      ],
      "source": [
        "# put your answer here\n",
        "num_list.removeZeroes()\n",
        "print(\"Output:\",num_list.display())"
      ]
    },
    {
      "cell_type": "markdown",
      "metadata": {
        "id": "SKAlpglNFehT"
      },
      "source": [
        "4. Insert a dash symbol between the 4th and 5th digit in **num_list**. `(5 points)`\n",
        "\n",
        "    **Expected Output:**\n",
        "\n",
        "    print(num_list)\n",
        "\n",
        "    [2, 0, 2, 2, \"-\", 1, 2, 3, 4, 5, 6]"
      ]
    },
    {
      "cell_type": "code",
      "execution_count": 153,
      "metadata": {
        "id": "vF7fimZ-FehT",
        "colab": {
          "base_uri": "https://localhost:8080/"
        },
        "outputId": "9e5673a9-6dd0-42e1-a393-15678e1bedea"
      },
      "outputs": [
        {
          "output_type": "stream",
          "name": "stdout",
          "text": [
            "Output: [2, 2, 2, 1, '-', 2, 9, 6, 8]\n"
          ]
        }
      ],
      "source": [
        "# put your answer here\n",
        "num_list.insertDash()\n",
        "print(\"Output:\",num_list.display())"
      ]
    },
    {
      "cell_type": "markdown",
      "metadata": {
        "id": "KkC-LgdxFehT"
      },
      "source": [
        "## Stack"
      ]
    },
    {
      "cell_type": "code",
      "execution_count": 154,
      "metadata": {
        "id": "UYTqB1u_FehU"
      },
      "outputs": [],
      "source": [
        "# Creating a stack\n",
        "def create_stack():\n",
        "    stack = []\n",
        "    return stack\n",
        "\n",
        "def print_stack(stack):\n",
        "    if check_empty(stack):\n",
        "        return \"stack is empty\"\n",
        "    # Create a copy of the stack and reverse the elements\n",
        "    tempStack = stack.copy()\n",
        "    tempStack.reverse()\n",
        "    # Print all elements using a loop\n",
        "    for i in tempStack:\n",
        "        print(i)\n",
        "    # Delete the copy to free up memory\n",
        "    del tempStack\n",
        "\n",
        "# Creating an empty stack\n",
        "def check_empty(stack):\n",
        "    return len(stack) == 0\n",
        "\n",
        "# Adding items into the stack\n",
        "def push(stack, item):\n",
        "    stack.append(item)\n",
        "    print(\"pushed item: \" + str(item))  # Convert item to string\n",
        "\n",
        "# Removing an element from the stack\n",
        "def pop(stack):\n",
        "    if check_empty(stack):\n",
        "        return \"stack is empty\"\n",
        "    return stack.pop()\n",
        "\n",
        "def verifyStack(my_stack, name_stack, num_stack):\n",
        "    # Check if my_stack has at least 2 elements and the last element is a digit\n",
        "    if len(my_stack) < 2 or not isinstance(my_stack[-1], int):\n",
        "        return False\n",
        "\n",
        "    # Check if the first element of my_stack matches the 5th digit in num_stack\n",
        "    if my_stack[0] != num_stack[4]:\n",
        "        return False\n",
        "\n",
        "    # Check if the middle elements of my_stack match the elements in name_stack\n",
        "    if my_stack[1:-1] != name_stack:\n",
        "        return False\n",
        "\n",
        "    # Check if the last element of my_stack matches the last digit in num_stack\n",
        "    if my_stack[-1] != num_stack[-1]:\n",
        "        return False\n",
        "\n",
        "    return True"
      ]
    },
    {
      "cell_type": "markdown",
      "metadata": {
        "id": "wLAQchs8FehU"
      },
      "source": [
        "**Instructions** ❗️❗️\n",
        "\n",
        "Use the pre-defined stack class/functions to create a stack"
      ]
    },
    {
      "cell_type": "markdown",
      "metadata": {
        "id": "37cg9BoCFehU"
      },
      "source": [
        "1. Create two (2) stacks named **name_stack** and **num_stack** `(5 points)`\n",
        "\n",
        "- **name_stack** should contain all letters of your first name.\n",
        "- **num_stack** should contain all digits of your student number.\n",
        "\n",
        "    **Expected Output:**\n",
        "\n",
        "    print(name_stack)\n",
        "\n",
        "    ['E', 'L', 'I', 'Z', 'E', 'R']\n",
        "\n",
        "    print(num_stack)\n",
        "\n",
        "    [2,0,2,2,1,2,3,4,5,6]"
      ]
    },
    {
      "cell_type": "code",
      "execution_count": 155,
      "metadata": {
        "id": "HlUIUQzQFehU",
        "colab": {
          "base_uri": "https://localhost:8080/"
        },
        "outputId": "b040a847-507a-4fc6-d3c6-19beda10e60e"
      },
      "outputs": [
        {
          "output_type": "stream",
          "name": "stdout",
          "text": [
            "pushed item: U\n",
            "pushed item: R\n",
            "pushed item: I\n",
            "pushed item: E\n",
            "pushed item: L\n",
            "pushed item: 2\n",
            "pushed item: 0\n",
            "pushed item: 2\n",
            "pushed item: 2\n",
            "pushed item: 1\n",
            "pushed item: 0\n",
            "pushed item: 2\n",
            "pushed item: 9\n",
            "pushed item: 6\n",
            "pushed item: 8\n",
            "nameStack:\n",
            "L\n",
            "E\n",
            "I\n",
            "R\n",
            "U\n",
            "numStack:\n",
            "8\n",
            "6\n",
            "9\n",
            "2\n",
            "0\n",
            "1\n",
            "2\n",
            "2\n",
            "0\n",
            "2\n"
          ]
        }
      ],
      "source": [
        "# put your answer here\n",
        "name_stack = create_stack()\n",
        "num_stack = create_stack()\n",
        "\n",
        "first_name = \"URIEL\"\n",
        "\n",
        "student_number = [2, 0, 2, 2, 1, 0, 2, 9, 6, 8]\n",
        "\n",
        "for letter in first_name:\n",
        "    push(name_stack, letter)\n",
        "\n",
        "for digit in student_number:\n",
        "    push(num_stack, digit)\n",
        "\n",
        "print(\"nameStack:\")\n",
        "print_stack(name_stack)\n",
        "\n",
        "print(\"numStack:\")\n",
        "print_stack(num_stack)"
      ]
    },
    {
      "cell_type": "markdown",
      "metadata": {
        "id": "8cySe9LXFehU"
      },
      "source": [
        "2. Create a stack named **my_stack** that follows the following format: `(5 points)`\n",
        "\n",
        "- The first element should be the **5th digit in your student number**\n",
        "- The succeeding elements should be the letters of your **first name**\n",
        "- The last element should be the **last digit of your student number**\n",
        "\n",
        "    **Expected Output:**\n",
        "\n",
        "    my_stack = [1, E, L, I, Z, E, R, 6]"
      ]
    },
    {
      "cell_type": "code",
      "execution_count": 168,
      "metadata": {
        "id": "bEnCoAhjFehU",
        "colab": {
          "base_uri": "https://localhost:8080/"
        },
        "outputId": "beba27a1-dfab-4156-a739-1c9b26265883"
      },
      "outputs": [
        {
          "output_type": "stream",
          "name": "stdout",
          "text": [
            "[0, 'U', 'R', 'I', 'E', 'L', 9]\n"
          ]
        }
      ],
      "source": [
        "# put your answer here\n",
        "my_stack = []\n",
        "my_stack.append(student_number[4])\n",
        "\n",
        "for letter in first_name:\n",
        "    my_stack.append(letter)\n",
        "\n",
        "my_stack.append(student_number[-1])\n",
        "\n",
        "print(my_stack)"
      ]
    },
    {
      "cell_type": "markdown",
      "metadata": {
        "id": "8a8_KP5nFehU"
      },
      "source": [
        "3. Write a `verifyStack()` function that will take in `my_stack` and check if its format has been followed `(10 points)`\n",
        "\n",
        "- Return **True** if the format has been followed\n",
        "- Return **False** if the format was not followed\n",
        "- Verify the format by checking the contents of **my_stack** with **name_stack** and **num_stack**\n",
        "\n",
        "    **Expected Output:**\n",
        "\n",
        "    my_stack = [1, E, L, I, Z, E, R, 6]\n",
        "\n",
        "    verifyStack(my_stack)\n",
        "\n",
        "    True\n",
        "\n",
        "    my_stack = [1, S, L, I, Z, E, R, 7]\n",
        "\n",
        "    verifyStack(my_stack)\n",
        "\n",
        "    False"
      ]
    },
    {
      "cell_type": "code",
      "execution_count": 169,
      "metadata": {
        "id": "RdANSxD0FehU",
        "colab": {
          "base_uri": "https://localhost:8080/"
        },
        "outputId": "9fb4233c-3007-4e7a-9f4f-88e939778fe5"
      },
      "outputs": [
        {
          "output_type": "stream",
          "name": "stdout",
          "text": [
            "verifyStack(my_stack1): True\n",
            "verifyStack(my_stack2): False\n"
          ]
        }
      ],
      "source": [
        "# put your answer here\n",
        "name_stack = ['U', 'R', 'I', 'E', 'L']\n",
        "num_stack = [2, 0, 2, 2, 1, 0, 2, 9, 6, 8]\n",
        "\n",
        "my_stack1 = [1, 'U', 'R', 'I', 'E', 'L', 8]\n",
        "my_stack2 = [1, 'U', 'R', 'I', 'E', 'L', 7]\n",
        "\n",
        "print(\"verifyStack(my_stack1):\", verifyStack(my_stack1, name_stack, num_stack))  # True\n",
        "print(\"verifyStack(my_stack2):\", verifyStack(my_stack2, name_stack, num_stack))"
      ]
    },
    {
      "cell_type": "markdown",
      "metadata": {
        "id": "UC5C64B2FehU"
      },
      "source": [
        "## Queue"
      ]
    },
    {
      "cell_type": "code",
      "execution_count": 158,
      "metadata": {
        "id": "NJJ0j0LHFehU"
      },
      "outputs": [],
      "source": [
        "class Queue:\n",
        "    def __init__(self):\n",
        "        self.queue = []\n",
        "\n",
        "    # Add an element\n",
        "    def enqueue(self, item):\n",
        "        self.queue.append(item)\n",
        "\n",
        "    # Remove an element\n",
        "    def dequeue(self):\n",
        "        if len(self.queue) < 1:\n",
        "            return None\n",
        "        return self.queue.pop(0)\n",
        "\n",
        "    # Display  the queue\n",
        "    def display(self):\n",
        "        print(self.queue)\n",
        "\n",
        "    def size(self):\n",
        "        return len(self.queue)\n",
        "\n",
        "    def peek(self):\n",
        "        return self.queue[0]\n",
        "\n"
      ]
    },
    {
      "cell_type": "markdown",
      "metadata": {
        "id": "80OekpbeFehV"
      },
      "source": [
        "**Instructions** ❗️❗️\n",
        "\n",
        "Use the pre-defined queue class/functions to create a Queue"
      ]
    },
    {
      "cell_type": "markdown",
      "metadata": {
        "id": "_Hf0OP5cFehV"
      },
      "source": [
        "1. Create a simple queue named **num_queue** `(5 points)`\n",
        "\n",
        "- **num_queue** should contain all digits of your student number.\n",
        "\n",
        "    **Expected Output:**\n",
        "\n",
        "    print(num_queue)\n",
        "\n",
        "    [2,0,2,2,1,2,3,4,5,6]"
      ]
    },
    {
      "cell_type": "code",
      "execution_count": 159,
      "metadata": {
        "id": "_mgmE4ArFehV",
        "colab": {
          "base_uri": "https://localhost:8080/"
        },
        "outputId": "74edf8a7-cba7-47d5-f704-c6b833e8787f"
      },
      "outputs": [
        {
          "output_type": "stream",
          "name": "stdout",
          "text": [
            "[2, 0, 2, 2, 1, 0, 2, 9, 6, 8]\n"
          ]
        }
      ],
      "source": [
        "num_queue = Queue()\n",
        "\n",
        "student_number = [2, 0, 2, 2, 1, 0, 2, 9, 6, 8]\n",
        "for digit in student_number:\n",
        "    num_queue.enqueue(digit)\n",
        "\n",
        "num_queue.display()"
      ]
    },
    {
      "cell_type": "markdown",
      "metadata": {
        "id": "1pHG8t6DFehV"
      },
      "source": [
        "2. Write a `getMax()` or `getMin()` function for **num_queue** `(5 points)`\n",
        "\n",
        "- If your student number ends with an odd number, create a `getMax()` function that will return the largest number in **num_queue**\n",
        "- If your student number ends with an even number, create a `getMin()` function that will return the lowest number in **num_queue**\n",
        "\n",
        "    **Expected Output for getMax():**\n",
        "\n",
        "    getMax(num_queue)\n",
        "\n",
        "    6\n",
        "\n",
        "    **Expected Output for getMin():**\n",
        "\n",
        "    getMin(num_queue)\n",
        "\n",
        "    0"
      ]
    },
    {
      "cell_type": "code",
      "execution_count": 160,
      "metadata": {
        "id": "itj2U610FehV",
        "colab": {
          "base_uri": "https://localhost:8080/"
        },
        "outputId": "0c21fce8-5eac-40c3-ddfb-d70dce27f226"
      },
      "outputs": [
        {
          "output_type": "stream",
          "name": "stdout",
          "text": [
            "Minimum number: 0\n"
          ]
        }
      ],
      "source": [
        "# put your answer here\n",
        "def getMax(queue):\n",
        "     max_num = max(queue.queue)\n",
        "     return max_num\n",
        "\n",
        "def getMin(queue):\n",
        "     min_num = min(queue.queue)\n",
        "     return min_num\n",
        "\n",
        "last_digit = student_number[-1]\n",
        "if last_digit % 2 == 0:\n",
        "    result = getMin(num_queue)\n",
        "    print(\"Minimum number:\", result)\n",
        "else:\n",
        "    result = getMax(num_queue)\n",
        "    print(\"Maximum number:\", result)"
      ]
    },
    {
      "cell_type": "markdown",
      "metadata": {
        "id": "YkgmP6GwFehV"
      },
      "source": [
        "3. Write a `getOdd()` or `getEven()` function for  **num_queue** `(5 points)`\n",
        "\n",
        "- If your student number ends with an **odd number**, create a `getOdd()` function that will return all odd numbers in **num_queue**\n",
        "- If your student number ends with an **even number**, create a `getEven()` function that will return all even numbers in **num_queue**\n",
        "\n",
        "    **Expected Output for getOdd():**\n",
        "\n",
        "    getOdd(num_queue)\n",
        "\n",
        "    [1, 3, 5]\n",
        "\n",
        "    **Expected Output for getEven():**\n",
        "\n",
        "    getEven(num_queue)\n",
        "\n",
        "    [0, 2, 4, 6]"
      ]
    },
    {
      "cell_type": "code",
      "execution_count": 161,
      "metadata": {
        "id": "2Bc7E1zNFehV",
        "colab": {
          "base_uri": "https://localhost:8080/"
        },
        "outputId": "292a42fe-cde2-41d7-8799-9a161c5c08a4"
      },
      "outputs": [
        {
          "output_type": "stream",
          "name": "stdout",
          "text": [
            "getEven: [2, 0, 2, 2, 0, 2, 6, 8]\n"
          ]
        }
      ],
      "source": [
        "# put your answer here\n",
        "def getOdd(queue):\n",
        "    odd_numbers = [num for num in queue.queue if num % 2 != 0]\n",
        "    return odd_numbers\n",
        "\n",
        "def getEven(queue):\n",
        "    even_numbers = [num for num in queue.queue if num % 2 == 0]\n",
        "    return even_numbers\n",
        "\n",
        "last_digit = student_number[-1]\n",
        "if last_digit % 2 == 0:\n",
        "    result = getEven(num_queue)\n",
        "    print(\"getEven:\", result)\n",
        "else:\n",
        "    result = getOdd(num_queue)\n",
        "    print(\"getOdd:\", result)"
      ]
    },
    {
      "cell_type": "markdown",
      "metadata": {
        "id": "kuzWF5g4FehV"
      },
      "source": [
        "4. Write a `removeDup()` function that will remove all duplicates in **num_queue** `(5 points)`\n",
        "\n",
        "    **Expected Output:**\n",
        "\n",
        "    removeDup(num_queue)\n",
        "\n",
        "    [2,0,1,3,4,5,6]"
      ]
    },
    {
      "cell_type": "code",
      "execution_count": 162,
      "metadata": {
        "id": "I8LeQP8MFehY",
        "colab": {
          "base_uri": "https://localhost:8080/"
        },
        "outputId": "edd846ea-cfba-4c57-f993-84fd5ad43d27"
      },
      "outputs": [
        {
          "output_type": "stream",
          "name": "stdout",
          "text": [
            "removeDup: [2, 0, 1, 9, 6, 8]\n"
          ]
        }
      ],
      "source": [
        "# put your answer here\n",
        "def removeDup(queue):\n",
        "    unique_numbers = []\n",
        "\n",
        "    while queue.size() > 0:\n",
        "        num = queue.dequeue()\n",
        "        if num not in unique_numbers:\n",
        "            unique_numbers.append(num)\n",
        "\n",
        "    for num in unique_numbers:\n",
        "        queue.enqueue(num)\n",
        "\n",
        "removeDup(num_queue)\n",
        "\n",
        "print(\"removeDup:\", num_queue.queue)"
      ]
    },
    {
      "cell_type": "markdown",
      "metadata": {
        "id": "LVfZTh8YFehZ"
      },
      "source": [
        "## Sort"
      ]
    },
    {
      "cell_type": "markdown",
      "metadata": {
        "id": "bm9lonfzFehZ"
      },
      "source": [
        "**Instructions** ❗️❗️\n",
        "\n",
        "Use the any sorting algoritms"
      ]
    },
    {
      "cell_type": "markdown",
      "metadata": {
        "id": "EJTlxhEdFehZ"
      },
      "source": [
        "1. Using any sorting algorithm, sort the **last 6 digits** of your student number in ascending order `(5 points)`\n",
        "\n",
        "    **Example:**\n",
        "\n",
        "    student_number = [2,0,2,2,6,2,5,1,3,4]\n",
        "\n",
        "    **Expected Output:**\n",
        "\n",
        "    print(student_number)\n",
        "\n",
        "    [2,0,2,2,1,2,3,4,5,6]\n"
      ]
    },
    {
      "cell_type": "code",
      "execution_count": 163,
      "metadata": {
        "id": "MkZKfveOFehZ",
        "colab": {
          "base_uri": "https://localhost:8080/"
        },
        "outputId": "303df23b-dd88-4cf4-b612-5ee416312f13"
      },
      "outputs": [
        {
          "output_type": "stream",
          "name": "stdout",
          "text": [
            "Sorted StudentNumber: [2, 0, 2, 2, 0, 1, 2, 6, 8, 9]\n"
          ]
        }
      ],
      "source": [
        "# put your answer here\n",
        "def insertion_sort(arr):\n",
        "    for i in range(1, len(arr)):\n",
        "        key = arr[i]\n",
        "        j = i - 1\n",
        "\n",
        "        while j >= 0 and key < arr[j]:\n",
        "            arr[j + 1] = arr[j]\n",
        "            j -= 1\n",
        "\n",
        "        arr[j + 1] = key\n",
        "\n",
        "student_number = [2, 0, 2, 2, 1, 0, 2, 9, 6, 8]\n",
        "\n",
        "last_six_digits = student_number[-6:]\n",
        "insertion_sort(last_six_digits)\n",
        "\n",
        "student_number[-6:] = last_six_digits\n",
        "\n",
        "print(\"Sorted StudentNumber:\", student_number)"
      ]
    },
    {
      "cell_type": "markdown",
      "metadata": {
        "id": "sC2JZRZMFehZ"
      },
      "source": [
        "2. Using your student_number, separately sort the even numbers in **increasing order** and the odd numbers in **decreasing order** `(15 points)`\n",
        "\n",
        "    **Example:**\n",
        "\n",
        "    student_number = [2,0,2,2,1,2,3,4,5,6]\n",
        "\n",
        "    **Expected Output:**\n",
        "\n",
        "    print(student_number)\n",
        "\n",
        "    [0,2,2,2,2,4,6,5,3,1]"
      ]
    },
    {
      "cell_type": "code",
      "execution_count": 164,
      "metadata": {
        "id": "hWOh_ohcFehZ",
        "colab": {
          "base_uri": "https://localhost:8080/"
        },
        "outputId": "74eb55e3-e0d3-45de-8e71-5763d30ee7d7"
      },
      "outputs": [
        {
          "output_type": "stream",
          "name": "stdout",
          "text": [
            "Sorted StudentNumber: [0, 0, 2, 2, 2, 2, 6, 8, 9, 1]\n"
          ]
        }
      ],
      "source": [
        "# put your answer here\n",
        "def insertion_sort(arr, increasing=True):\n",
        "    for i in range(1, len(arr)):\n",
        "        key = arr[i]\n",
        "        j = i - 1\n",
        "\n",
        "        while j >= 0 and ((increasing and key < arr[j]) or (not increasing and key > arr[j])):\n",
        "            arr[j + 1] = arr[j]\n",
        "            j -= 1\n",
        "\n",
        "        arr[j + 1] = key\n",
        "\n",
        "even_numbers = [num for num in student_number if num % 2 == 0]\n",
        "odd_numbers = [num for num in student_number if num % 2 != 0]\n",
        "\n",
        "insertion_sort(even_numbers)\n",
        "\n",
        "insertion_sort(odd_numbers, increasing=False)\n",
        "\n",
        "sorted_student_number = even_numbers + odd_numbers\n",
        "\n",
        "print(\"Sorted StudentNumber:\", sorted_student_number)"
      ]
    }
  ],
  "metadata": {
    "colab": {
      "provenance": []
    },
    "kernelspec": {
      "display_name": "Python 3",
      "language": "python",
      "name": "python3"
    },
    "language_info": {
      "codemirror_mode": {
        "name": "ipython",
        "version": 3
      },
      "file_extension": ".py",
      "mimetype": "text/x-python",
      "name": "python",
      "nbconvert_exporter": "python",
      "pygments_lexer": "ipython3",
      "version": "3.9.13"
    }
  },
  "nbformat": 4,
  "nbformat_minor": 0
}